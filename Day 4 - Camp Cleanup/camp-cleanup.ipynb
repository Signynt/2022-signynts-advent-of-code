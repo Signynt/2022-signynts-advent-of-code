{
 "cells": [
  {
   "cell_type": "code",
   "execution_count": 211,
   "metadata": {},
   "outputs": [
    {
     "name": "stdout",
     "output_type": "stream",
     "text": [
      "444\n"
     ]
    }
   ],
   "source": [
    "assignments = [[[int(number) for number in elf] for elf in [elf.split('-') for elf in line]] for line in [line.split(',') for line in open('input.txt').read().splitlines()]]\n",
    "sum_of_contained = 0\n",
    "\n",
    "for line in assignments:\n",
    "    elf_1 = range(line[0][0], line[0][1]+1)\n",
    "    elf_2 = range(line[1][0], line[1][1]+1)\n",
    "    if set(elf_1).issubset(set(elf_2)) or set(elf_2).issubset(set(elf_1)):\n",
    "        sum_of_contained += 1\n",
    "\n",
    "print(sum_of_contained)"
   ]
  },
  {
   "cell_type": "code",
   "execution_count": 210,
   "metadata": {},
   "outputs": [
    {
     "name": "stdout",
     "output_type": "stream",
     "text": [
      "801\n"
     ]
    }
   ],
   "source": [
    "assignments = [[[int(number) for number in elf] for elf in [elf.split('-') for elf in line]] for line in [line.split(',') for line in open('input.txt').read().splitlines()]]\n",
    "sum_of_contained = 0\n",
    "\n",
    "for line in assignments:\n",
    "    elf_1 = range(line[0][0], line[0][1]+1)\n",
    "    elf_2 = range(line[1][0], line[1][1]+1)\n",
    "    if set(elf_1) & set(elf_2):\n",
    "        sum_of_contained += 1\n",
    "\n",
    "print(sum_of_contained)"
   ]
  },
  {
   "cell_type": "code",
   "execution_count": null,
   "metadata": {},
   "outputs": [],
   "source": []
  }
 ],
 "metadata": {
  "kernelspec": {
   "display_name": "Python 3.9.13 ('tensorflow')",
   "language": "python",
   "name": "python3"
  },
  "language_info": {
   "codemirror_mode": {
    "name": "ipython",
    "version": 3
   },
   "file_extension": ".py",
   "mimetype": "text/x-python",
   "name": "python",
   "nbconvert_exporter": "python",
   "pygments_lexer": "ipython3",
   "version": "3.9.13"
  },
  "orig_nbformat": 4,
  "vscode": {
   "interpreter": {
    "hash": "133de57714d40ba09447075a3b1a28b0b9f0b583e18f6847eafa8bf12e541e56"
   }
  }
 },
 "nbformat": 4,
 "nbformat_minor": 2
}
