{
 "cells": [
  {
   "cell_type": "code",
   "execution_count": 8,
   "metadata": {},
   "outputs": [
    {
     "name": "stdout",
     "output_type": "stream",
     "text": [
      "The top 3 elves are [162, 141, 142] and are carrying 207456 calories total.\n"
     ]
    }
   ],
   "source": [
    "def sum_calories_for_each_elf(list):\n",
    "    list_of_summed_calories = []\n",
    "    for item in list:\n",
    "        calories_of_one_elf = item.split('\\n')\n",
    "        int_list = [int(item) for item in calories_of_one_elf if item]\n",
    "        summed_calories = sum(int_list)\n",
    "        list_of_summed_calories.append(summed_calories)\n",
    "    return list_of_summed_calories\n",
    "\n",
    "def output_result_top_x_elves(list, top_x_elves):\n",
    "    sorted_list = sorted(list, reverse=True)[:top_x_elves]\n",
    "    result_calories = sum(sorted_list)\n",
    "    result_index = [list.index(item) for item in sorted_list]\n",
    "    print(\"The top \" + str(top_x_elves) + \" elves are \" + str(result_index) + \" and are carrying \" + str(result_calories) + \" calories total.\")\n",
    "\n",
    "list_split_up_by_elf = open('calories.txt').read().split('\\n\\n')\n",
    "\n",
    "output_result_top_x_elves(sum_calories_for_each_elf(list_split_up_by_elf), 3)"
   ]
  },
  {
   "cell_type": "code",
   "execution_count": null,
   "metadata": {},
   "outputs": [],
   "source": []
  }
 ],
 "metadata": {
  "interpreter": {
   "hash": "1a1af0ee75eeea9e2e1ee996c87e7a2b11a0bebd85af04bb136d915cefc0abce"
  },
  "kernelspec": {
   "display_name": "Python 3.11.0 64-bit",
   "language": "python",
   "name": "python3"
  },
  "language_info": {
   "codemirror_mode": {
    "name": "ipython",
    "version": 3
   },
   "file_extension": ".py",
   "mimetype": "text/x-python",
   "name": "python",
   "nbconvert_exporter": "python",
   "pygments_lexer": "ipython3",
   "version": "3.11.0"
  },
  "orig_nbformat": 4
 },
 "nbformat": 4,
 "nbformat_minor": 2
}
