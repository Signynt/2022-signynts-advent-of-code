{
 "cells": [
  {
   "cell_type": "code",
   "execution_count": 89,
   "metadata": {},
   "outputs": [
    {
     "name": "stdout",
     "output_type": "stream",
     "text": [
      "The elf carrying the most calories is elf number 162, who is carrying 69177 calories.\n"
     ]
    }
   ],
   "source": [
    "def load_calories_file(calories_file):\n",
    "    with open(calories_file) as f:\n",
    "        calories_string = f.read()\n",
    "    return calories_string\n",
    "\n",
    "def convert_list_to_int(list):\n",
    "    int_list = [int(item) for item in list if item]\n",
    "    return int_list\n",
    "\n",
    "def find_max_calories(list):\n",
    "    max_value = max(list)\n",
    "    index = list.index(max_value)\n",
    "    return index, max_value\n",
    "\n",
    "def sum_calories_for_each_elf(list):\n",
    "    list_of_summed_calories = []\n",
    "    for item in list:\n",
    "        calories_of_one_elf = item.split('\\n')\n",
    "        int_list = convert_list_to_int(calories_of_one_elf)\n",
    "        summed_calories = sum(int_list)\n",
    "        list_of_summed_calories.append(summed_calories)\n",
    "    return list_of_summed_calories\n",
    "\n",
    "def output_result(list):\n",
    "    result_index = find_index_of_max(list)[0]\n",
    "    result_calories = find_index_of_max(list)[1]\n",
    "    print(\"The elf carrying the most calories is elf number \" + str(result_index) + \", who is carrying \" + str(result_calories) + \" calories.\")\n",
    "\n",
    "list_split_up_by_elf = load_calories_file('calories.txt').split('\\n\\n')\n",
    "output_result(sum_calories_for_each_elf(list_split_up_by_elf))"
   ]
  },
  {
   "cell_type": "code",
   "execution_count": null,
   "metadata": {},
   "outputs": [],
   "source": []
  }
 ],
 "metadata": {
  "interpreter": {
   "hash": "1a1af0ee75eeea9e2e1ee996c87e7a2b11a0bebd85af04bb136d915cefc0abce"
  },
  "kernelspec": {
   "display_name": "Python 3.11.0 64-bit",
   "language": "python",
   "name": "python3"
  },
  "language_info": {
   "codemirror_mode": {
    "name": "ipython",
    "version": 3
   },
   "file_extension": ".py",
   "mimetype": "text/x-python",
   "name": "python",
   "nbconvert_exporter": "python",
   "pygments_lexer": "ipython3",
   "version": "3.11.0"
  },
  "orig_nbformat": 4
 },
 "nbformat": 4,
 "nbformat_minor": 2
}
