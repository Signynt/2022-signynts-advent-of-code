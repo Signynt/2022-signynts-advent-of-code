{
 "cells": [
  {
   "cell_type": "code",
   "execution_count": 5,
   "metadata": {},
   "outputs": [
    {
     "name": "stdout",
     "output_type": "stream",
     "text": [
      "12740\n"
     ]
    }
   ],
   "source": [
    "strategy_by_round = [item.split() for item in open('strategy.txt').read().splitlines()]\n",
    "round_score = 0\n",
    "\n",
    "for item in strategy_by_round:\n",
    "    numbers = [ord(letter) - 87 for letter in item]\n",
    "    win_or_loss = 6\n",
    "    if numbers == [-22, 3] or numbers == [-21, 1] or numbers == [-20, 2]: win_or_loss = 0\n",
    "    if numbers == [-22, 1] or numbers == [-21, 2] or numbers == [-20, 3]: win_or_loss = 3\n",
    "    round_score += win_or_loss + numbers[1]\n",
    "print(round_score)"
   ]
  },
  {
   "cell_type": "code",
   "execution_count": 7,
   "metadata": {},
   "outputs": [
    {
     "name": "stdout",
     "output_type": "stream",
     "text": [
      "11980\n"
     ]
    }
   ],
   "source": [
    "strategy_by_round = [item.split() for item in open('strategy.txt').read().splitlines()]\n",
    "round_score = 0\n",
    "\n",
    "dictionary = {\n",
    "    1: 3,\n",
    "    2: 1,\n",
    "    3: 2,\n",
    "}\n",
    "\n",
    "for item in strategy_by_round:\n",
    "    numbers = [ord(letter) - 64 for letter in item]\n",
    "    if item[1] == 'X':\n",
    "        win_or_loss = 0\n",
    "        for entry in dictionary: \n",
    "            if entry == numbers[0]: play = dictionary[entry]\n",
    "    if item[1] == 'Y': \n",
    "        win_or_loss = 3\n",
    "        play = numbers[0]\n",
    "    if item[1] == 'Z':\n",
    "        win_or_loss = 6\n",
    "        for entry in dictionary: \n",
    "            if dictionary[entry] == numbers[0]: play = entry\n",
    "    round_score += win_or_loss + play\n",
    "print(round_score)"
   ]
  },
  {
   "cell_type": "markdown",
   "metadata": {},
   "source": [
    "## Loss\n",
    "- A (Rock) beats: 1\n",
    "    - Z (Scissors) 3\n",
    "- B (Paper) beats: 2\n",
    "    - X (Rock) 1\n",
    "- C (Scissors) beats: 3\n",
    "    - Y (Paper) 2\n",
    "\n",
    "## Gleichstand\n",
    "- B\n",
    "    - Y\n",
    "    - -19\n",
    "- A\n",
    "    - X\n",
    "    - -21\n",
    "- \n",
    "\n",
    "## Win\n",
    "- A\n",
    "    - Y\n",
    "    - -20"
   ]
  }
 ],
 "metadata": {
  "kernelspec": {
   "display_name": "Python 3.9.13 ('tensorflow')",
   "language": "python",
   "name": "python3"
  },
  "language_info": {
   "codemirror_mode": {
    "name": "ipython",
    "version": 3
   },
   "file_extension": ".py",
   "mimetype": "text/x-python",
   "name": "python",
   "nbconvert_exporter": "python",
   "pygments_lexer": "ipython3",
   "version": "3.9.13"
  },
  "orig_nbformat": 4,
  "vscode": {
   "interpreter": {
    "hash": "133de57714d40ba09447075a3b1a28b0b9f0b583e18f6847eafa8bf12e541e56"
   }
  }
 },
 "nbformat": 4,
 "nbformat_minor": 2
}
