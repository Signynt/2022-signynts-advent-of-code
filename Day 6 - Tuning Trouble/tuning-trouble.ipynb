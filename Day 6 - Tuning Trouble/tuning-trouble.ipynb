{
 "cells": [
  {
   "cell_type": "code",
   "execution_count": 47,
   "id": "8c596d75",
   "metadata": {},
   "outputs": [
    {
     "name": "stdout",
     "output_type": "stream",
     "text": [
      "1760\n"
     ]
    }
   ],
   "source": [
    "counter = 0\n",
    "input = list(open('input.txt').read())\n",
    "\n",
    "for letter in input:\n",
    "    if len(input[counter:counter+4]) == len(set(input[counter:counter+4])):\n",
    "        break\n",
    "    counter += 1\n",
    "    \n",
    "print(counter+4)"
   ]
  },
  {
   "cell_type": "code",
   "execution_count": 51,
   "id": "76c7fdf5",
   "metadata": {},
   "outputs": [
    {
     "name": "stdout",
     "output_type": "stream",
     "text": [
      "2974\n"
     ]
    }
   ],
   "source": [
    "counter = 0\n",
    "input = list(open('input.txt').read())\n",
    "\n",
    "for letter in input:\n",
    "    if len(input[counter:counter+14]) == len(set(input[counter:counter+14])):\n",
    "        break\n",
    "    counter += 1\n",
    "    \n",
    "print(counter+14)"
   ]
  },
  {
   "cell_type": "code",
   "execution_count": null,
   "id": "ec959f29",
   "metadata": {},
   "outputs": [],
   "source": []
  }
 ],
 "metadata": {
  "kernelspec": {
   "display_name": "Python 3 (ipykernel)",
   "language": "python",
   "name": "python3"
  },
  "language_info": {
   "codemirror_mode": {
    "name": "ipython",
    "version": 3
   },
   "file_extension": ".py",
   "mimetype": "text/x-python",
   "name": "python",
   "nbconvert_exporter": "python",
   "pygments_lexer": "ipython3",
   "version": "3.10.8"
  }
 },
 "nbformat": 4,
 "nbformat_minor": 5
}
