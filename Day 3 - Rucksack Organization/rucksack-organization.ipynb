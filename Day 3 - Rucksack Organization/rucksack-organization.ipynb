{
 "cells": [
  {
   "cell_type": "code",
   "execution_count": 132,
   "metadata": {},
   "outputs": [
    {
     "name": "stdout",
     "output_type": "stream",
     "text": [
      "8176\n"
     ]
    }
   ],
   "source": [
    "rucksacks = [[*item] for item in open('input.txt').read().splitlines()]\n",
    "sum_of_duplicates = 0\n",
    "\n",
    "for item in rucksacks:\n",
    "    item = [ord(letter) - 38 if letter.isupper() else ord(letter) - 96 for letter in item]\n",
    "    first_compartment = item[:len(item)//2]\n",
    "    second_compartment = item[len(item)//2:]\n",
    "    duplicate = set(first_compartment) & set(second_compartment)\n",
    "    sum_of_duplicates += int(list(duplicate)[0])\n",
    "\n",
    "print(sum_of_duplicates)"
   ]
  },
  {
   "cell_type": "code",
   "execution_count": 131,
   "metadata": {},
   "outputs": [
    {
     "name": "stdout",
     "output_type": "stream",
     "text": [
      "2689\n"
     ]
    }
   ],
   "source": [
    "rucksacks = [[*item] for item in open('input.txt').read().splitlines()]\n",
    "sum_of_duplicates = 0\n",
    "\n",
    "group_of_elves = [rucksacks[backpack:backpack+3] for backpack in range(0, len(rucksacks), 3)]\n",
    "\n",
    "for group in group_of_elves:\n",
    "    group = [[ord(letter) - 38 if letter.isupper() else ord(letter) - 96 for letter in backpack] for backpack in group]\n",
    "    duplicate = set(group[0]) & set(group[1]) & set(group[2])\n",
    "    sum_of_duplicates += int(list(duplicate)[0])\n",
    "\n",
    "print(sum_of_duplicates)"
   ]
  },
  {
   "cell_type": "code",
   "execution_count": null,
   "metadata": {},
   "outputs": [],
   "source": []
  }
 ],
 "metadata": {
  "kernelspec": {
   "display_name": "Python 3.9.13 ('tensorflow')",
   "language": "python",
   "name": "python3"
  },
  "language_info": {
   "codemirror_mode": {
    "name": "ipython",
    "version": 3
   },
   "file_extension": ".py",
   "mimetype": "text/x-python",
   "name": "python",
   "nbconvert_exporter": "python",
   "pygments_lexer": "ipython3",
   "version": "3.9.13"
  },
  "orig_nbformat": 4,
  "vscode": {
   "interpreter": {
    "hash": "133de57714d40ba09447075a3b1a28b0b9f0b583e18f6847eafa8bf12e541e56"
   }
  }
 },
 "nbformat": 4,
 "nbformat_minor": 2
}
