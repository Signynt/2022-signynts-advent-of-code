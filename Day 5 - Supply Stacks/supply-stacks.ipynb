{
 "cells": [
  {
   "cell_type": "code",
   "execution_count": 24,
   "metadata": {},
   "outputs": [
    {
     "name": "stdout",
     "output_type": "stream",
     "text": [
      "JDTMRWCQJ\n"
     ]
    }
   ],
   "source": [
    "import re\n",
    "list_of_stacks = []\n",
    "answer = ''\n",
    "\n",
    "input = open('input.txt').read()\n",
    "loading_zone, instructions = [section.splitlines() for section in input.split('\\n\\n')] # split file into loading zone and instructions\n",
    "stacks = [[re.sub(r'\\[(.)\\]\\s?', r'\\g<1>', item) for item in line] for line in [re.findall('....?',line) for line in loading_zone]] # split each line up into clumps of 4 characters, then strip away the brackets \n",
    "\n",
    "def resort_list(list, number): # flip list by 90 degrees\n",
    "    output = []\n",
    "    for height in range(len(list)-1): # go through each line, so the height of the stacks (-1 to ignore the last light with the numbers)\n",
    "        if not list[height][number].isspace(): # ignore the empty spaces where there are no boxes\n",
    "            output.insert(0, list[height][number]) # insert each crate that is found at the beginning (spot 0) of the list\n",
    "    return output\n",
    "\n",
    "for number_of_stacks in range(len(stacks[0])): # go through for each stack, create a new list with the crates in each stack, and add them to a list of stacks\n",
    "    list_of_stacks.append(resort_list(stacks, number_of_stacks))\n",
    "\n",
    "for line in instructions: # go through the instructions\n",
    "    line = line.split() # split up the instructions into words\n",
    "    number_of_crates, from_stack, to_stack = int(line[1]), int(line[3]), int(line[5]) # extract out the numbers that we need from the sentences\n",
    "    for number in range(number_of_crates): # take the number_of_crates we need to move and repeat until done\n",
    "        list_of_stacks[to_stack-1].append(list_of_stacks[from_stack-1].pop(-1)) # pop the last crate off the from_stack and append it to the to_stack\n",
    "\n",
    "for stack in range(len(list_of_stacks)): # find the top crate in each stack (the last item of each list) and add them to the answer string\n",
    "    top_item = list_of_stacks[stack][-1]\n",
    "    answer += top_item\n",
    "\n",
    "print(answer)"
   ]
  },
  {
   "cell_type": "code",
   "execution_count": 28,
   "metadata": {},
   "outputs": [
    {
     "data": {
      "text/plain": [
       "['H', 'L', 'Q', 'P', 'H', 'Q', 'D']"
      ]
     },
     "execution_count": 28,
     "metadata": {},
     "output_type": "execute_result"
    }
   ],
   "source": [
    "list_of_stacks[1]"
   ]
  },
  {
   "cell_type": "code",
   "execution_count": 22,
   "metadata": {},
   "outputs": [
    {
     "name": "stdout",
     "output_type": "stream",
     "text": [
      "VHJDDCWRD\n"
     ]
    }
   ],
   "source": [
    "import re\n",
    "list_of_stacks = []\n",
    "answer = ''\n",
    "\n",
    "input = open('input.txt').read()\n",
    "loading_zone, instructions = [section.splitlines() for section in input.split('\\n\\n')] # split file into loading zone and instructions\n",
    "stacks = [[re.sub(r'\\[(.)\\]\\s?', r'\\g<1>', item) for item in line] for line in [re.findall('....?',line) for line in loading_zone]] # split each line up into clumps of 4 characters, then strip away the brackets \n",
    "\n",
    "def resort_list(list, number): # flip list by 90 degrees\n",
    "    output = []\n",
    "    for height in range(len(list)-1): # go through each line, so the height of the stacks (-1 to ignore the last light with the numbers)\n",
    "        if not list[height][number].isspace(): # ignore the empty spaces where there are no boxes\n",
    "            output.insert(0, list[height][number]) # insert each crate that is found at the beginning (spot 0) of the list\n",
    "    return output\n",
    "\n",
    "for number_of_stacks in range(len(stacks[0])): # go through for each stack, create a new list with the crates in each stack, and add them to a list of stacks\n",
    "    list_of_stacks.append(resort_list(stacks, number_of_stacks))\n",
    "\n",
    "for line in instructions: # go through the instructions\n",
    "    line = line.split() # split up the instructions into words\n",
    "    number_of_crates, from_stack, to_stack = int(line[1]), int(line[3]), int(line[5]) # extract out the numbers that we need from the sentences\n",
    "    picked_up_boxes, list_of_stacks[from_stack-1] = list_of_stacks[from_stack-1][-number_of_crates:], list_of_stacks[from_stack-1][:-number_of_crates] # create a list of picked_up_boxes, based on the number_of_crates from the instructions, also edit the stack to not include those crates any more\n",
    "    list_of_stacks[to_stack-1].extend(picked_up_boxes) # add those crates to the end of the stack\n",
    "\n",
    "for stack in range(len(list_of_stacks)): # find the top crate in each stack (the last item of each list) and add them to the answer string\n",
    "    top_item = list_of_stacks[stack][-1]\n",
    "    answer += top_item\n",
    "\n",
    "print(answer)"
   ]
  },
  {
   "cell_type": "code",
   "execution_count": null,
   "metadata": {},
   "outputs": [],
   "source": []
  }
 ],
 "metadata": {
  "kernelspec": {
   "display_name": "Python 3 (ipykernel)",
   "language": "python",
   "name": "python3"
  },
  "language_info": {
   "codemirror_mode": {
    "name": "ipython",
    "version": 3
   },
   "file_extension": ".py",
   "mimetype": "text/x-python",
   "name": "python",
   "nbconvert_exporter": "python",
   "pygments_lexer": "ipython3",
   "version": "3.9.13"
  },
  "vscode": {
   "interpreter": {
    "hash": "133de57714d40ba09447075a3b1a28b0b9f0b583e18f6847eafa8bf12e541e56"
   }
  }
 },
 "nbformat": 4,
 "nbformat_minor": 2
}
