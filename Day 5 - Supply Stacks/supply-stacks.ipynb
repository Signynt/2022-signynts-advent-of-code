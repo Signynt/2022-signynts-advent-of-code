{
 "cells": [
  {
   "cell_type": "code",
   "execution_count": 332,
   "metadata": {},
   "outputs": [
    {
     "name": "stdout",
     "output_type": "stream",
     "text": [
      "JDTMRWCQJ\n"
     ]
    }
   ],
   "source": [
    "import re\n",
    "\n",
    "input = open('input.txt').read()\n",
    "loading_zone, instructions = [section.splitlines() for section in input.split('\\n\\n')]\n",
    "stacks = [re.findall('....?',line) for line in loading_zone]\n",
    "stacks_stripped_letter = [[re.sub(r'\\[(.)\\]\\s?', r'\\g<1>', item) for item in line] for line in stacks]\n",
    "extracted_instructions = [line.split() for line in instructions]\n",
    "stack_new = []\n",
    "answer = ''\n",
    "\n",
    "def resort_list(input_list, number):\n",
    "    new_list = []\n",
    "    for height in range(len(input_list)-1):\n",
    "        if not input_list[height][number].isspace():\n",
    "            new_list.insert(0, input_list[height][number])\n",
    "    return new_list\n",
    "\n",
    "for number_of_stacks in range(len(stacks_stripped_letter[0])):\n",
    "    stack_new.append(resort_list(stacks_stripped_letter, number_of_stacks))\n",
    "\n",
    "for line in extracted_instructions:\n",
    "    number_of_crates = int(line[1])\n",
    "    from_stack = int(line[3])\n",
    "    to_stack = int(line[5])\n",
    "    for number in range(number_of_crates):\n",
    "        stack_new[to_stack-1].append(stack_new[from_stack-1].pop(-1))\n",
    "\n",
    "for stack in range(len(stack_new)):\n",
    "    top_item = stack_new[stack][-1]\n",
    "    answer += str(top_item)\n",
    "\n",
    "print(answer)"
   ]
  },
  {
   "cell_type": "code",
   "execution_count": 330,
   "metadata": {},
   "outputs": [
    {
     "name": "stdout",
     "output_type": "stream",
     "text": [
      "VHJDDCWRD\n"
     ]
    }
   ],
   "source": [
    "import re\n",
    "\n",
    "input = open('input.txt').read()\n",
    "loading_zone, instructions = [section.splitlines() for section in input.split('\\n\\n')]\n",
    "stacks = [re.findall('....?',line) for line in loading_zone]\n",
    "stacks_stripped_letter = [[re.sub(r'\\[(.)\\]\\s?', r'\\g<1>', item) for item in line] for line in stacks]\n",
    "extracted_instructions = [line.split() for line in instructions]\n",
    "stack_new = []\n",
    "answer = ''\n",
    "\n",
    "def resort_list(input_list, number):\n",
    "    new_list = []\n",
    "    for height in range(len(input_list)-1):\n",
    "        if not input_list[height][number].isspace():\n",
    "            new_list.insert(0, input_list[height][number])\n",
    "    return new_list\n",
    "\n",
    "for number_of_stacks in range(len(stacks_stripped_letter[0])):\n",
    "    stack_new.append(resort_list(stacks_stripped_letter, number_of_stacks))\n",
    "\n",
    "for line in extracted_instructions:\n",
    "    number_of_crates = int(line[1])\n",
    "    from_stack = int(line[3])\n",
    "    to_stack = int(line[5])\n",
    "    picked_up_boxes = stack_new[from_stack-1][-number_of_crates:]\n",
    "    stack_new[from_stack-1] = stack_new[from_stack-1][:-number_of_crates]\n",
    "    stack_new[to_stack-1].extend(picked_up_boxes)\n",
    "\n",
    "for stack in range(len(stack_new)):\n",
    "    top_item = stack_new[stack][-1]\n",
    "    answer += str(top_item)\n",
    "\n",
    "print(answer)"
   ]
  },
  {
   "cell_type": "code",
   "execution_count": null,
   "metadata": {},
   "outputs": [],
   "source": []
  }
 ],
 "metadata": {
  "kernelspec": {
   "display_name": "Python 3.9.13 ('tensorflow')",
   "language": "python",
   "name": "python3"
  },
  "language_info": {
   "codemirror_mode": {
    "name": "ipython",
    "version": 3
   },
   "file_extension": ".py",
   "mimetype": "text/x-python",
   "name": "python",
   "nbconvert_exporter": "python",
   "pygments_lexer": "ipython3",
   "version": "3.9.13"
  },
  "orig_nbformat": 4,
  "vscode": {
   "interpreter": {
    "hash": "133de57714d40ba09447075a3b1a28b0b9f0b583e18f6847eafa8bf12e541e56"
   }
  }
 },
 "nbformat": 4,
 "nbformat_minor": 2
}
