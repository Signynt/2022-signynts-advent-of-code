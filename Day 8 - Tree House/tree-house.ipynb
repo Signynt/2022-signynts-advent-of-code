{
 "cells": [
  {
   "cell_type": "code",
   "execution_count": 7,
   "metadata": {},
   "outputs": [],
   "source": [
    "input = [list(line) for line in open('test.txt').read().splitlines()]\n",
    "\n",
    "input = [[int(number) for number in line] for line in input]"
   ]
  },
  {
   "cell_type": "code",
   "execution_count": 73,
   "metadata": {},
   "outputs": [
    {
     "name": "stdout",
     "output_type": "stream",
     "text": [
      "[3, 0, 3, 7, 3]\n",
      "[2, 5, 5, 1, 2]\n",
      "[6, 5, 3, 3, 2]\n",
      "[3, 3, 5, 4, 9]\n",
      "[3, 5, 3, 9, 0]\n",
      "[0, 3, 7, 3]\n",
      "[5, 5, 1, 2]\n",
      "[5, 3, 3, 2]\n",
      "[3, 5, 4, 9]\n",
      "[5, 3, 9, 0]\n",
      "[3, 7, 3]\n",
      "[5, 1, 2]\n",
      "[3, 3, 2]\n",
      "[5, 4, 9]\n",
      "[3, 9, 0]\n",
      "[7, 3]\n",
      "[1, 2]\n",
      "[3, 2]\n",
      "[4, 9]\n",
      "[9, 0]\n",
      "[3]\n",
      "[2]\n",
      "[2]\n",
      "[9]\n",
      "[0]\n"
     ]
    }
   ],
   "source": [
    "\n",
    "for col in range(len(input[0])):\n",
    "    for row in range(len(input)):\n",
    "        #print(input[row:][col], input[row][col])\n",
    "        print(input[row][col:])"
   ]
  },
  {
   "cell_type": "code",
   "execution_count": 65,
   "metadata": {},
   "outputs": [
    {
     "name": "stdout",
     "output_type": "stream",
     "text": [
      "[3, 0, 3, 7, 3] 3\n",
      "the tree is not visible\n",
      "[2, 5, 5, 1, 2] 2\n",
      "the tree is not visible\n",
      "[6, 5, 3, 3, 2] 6\n",
      "the tree is not visible\n",
      "[3, 3, 5, 4, 9] 3\n",
      "the tree is not visible\n",
      "[3, 5, 3, 9, 0] 3\n",
      "the tree is not visible\n",
      "[2, 5, 5, 1, 2] 0\n",
      "the tree is not visible\n",
      "[6, 5, 3, 3, 2] 5\n",
      "the tree is not visible\n",
      "[3, 3, 5, 4, 9] 5\n",
      "the tree is not visible\n",
      "[3, 5, 3, 9, 0] 3\n",
      "the tree is not visible\n"
     ]
    },
    {
     "ename": "IndexError",
     "evalue": "list index out of range",
     "output_type": "error",
     "traceback": [
      "\u001b[0;31m---------------------------------------------------------------------------\u001b[0m",
      "\u001b[0;31mIndexError\u001b[0m                                Traceback (most recent call last)",
      "\u001b[1;32m/Users/vmitchell/GitHub/2022-signynts-advent-of-code/Day 8 - Tree House/tree-house.ipynb Cell 3\u001b[0m in \u001b[0;36m<cell line: 4>\u001b[0;34m()\u001b[0m\n\u001b[1;32m      <a href='vscode-notebook-cell:/Users/vmitchell/GitHub/2022-signynts-advent-of-code/Day%208%20-%20Tree%20House/tree-house.ipynb#W1sZmlsZQ%3D%3D?line=3'>4</a>\u001b[0m \u001b[39mfor\u001b[39;00m col \u001b[39min\u001b[39;00m \u001b[39mrange\u001b[39m(\u001b[39mlen\u001b[39m(\u001b[39minput\u001b[39m[\u001b[39m0\u001b[39m])):\n\u001b[1;32m      <a href='vscode-notebook-cell:/Users/vmitchell/GitHub/2022-signynts-advent-of-code/Day%208%20-%20Tree%20House/tree-house.ipynb#W1sZmlsZQ%3D%3D?line=4'>5</a>\u001b[0m     \u001b[39mfor\u001b[39;00m row \u001b[39min\u001b[39;00m \u001b[39mrange\u001b[39m(\u001b[39mlen\u001b[39m(\u001b[39minput\u001b[39m)):\n\u001b[0;32m----> <a href='vscode-notebook-cell:/Users/vmitchell/GitHub/2022-signynts-advent-of-code/Day%208%20-%20Tree%20House/tree-house.ipynb#W1sZmlsZQ%3D%3D?line=5'>6</a>\u001b[0m         \u001b[39mprint\u001b[39m(\u001b[39minput\u001b[39;49m[row:][col], \u001b[39minput\u001b[39m[row][col])\n\u001b[1;32m      <a href='vscode-notebook-cell:/Users/vmitchell/GitHub/2022-signynts-advent-of-code/Day%208%20-%20Tree%20House/tree-house.ipynb#W1sZmlsZQ%3D%3D?line=6'>7</a>\u001b[0m         \u001b[39mif\u001b[39;00m \u001b[39minput\u001b[39m[row:][col]:\n\u001b[1;32m      <a href='vscode-notebook-cell:/Users/vmitchell/GitHub/2022-signynts-advent-of-code/Day%208%20-%20Tree%20House/tree-house.ipynb#W1sZmlsZQ%3D%3D?line=7'>8</a>\u001b[0m                 \u001b[39mif\u001b[39;00m \u001b[39mmax\u001b[39m(\u001b[39minput\u001b[39m[row:][col]) \u001b[39m>\u001b[39m\u001b[39m=\u001b[39m \u001b[39minput\u001b[39m[row][col]:\n",
      "\u001b[0;31mIndexError\u001b[0m: list index out of range"
     ]
    }
   ],
   "source": [
    "\n",
    "visible_from_north, visible_from_south, visible_from_west, visible_from_east = 0, 0, 0, 0\n",
    "\n",
    "# check how many are visible from east:\n",
    "for col in range(len(input[0])):\n",
    "    for row in range(len(input)):\n",
    "        print(input[row:][col], input[row][col])\n",
    "        if input[row:][col]:\n",
    "                if max(input[row:][col]) >= input[row][col]:\n",
    "                        print('the tree is not visible')\n",
    "                else:\n",
    "                        print('the tree is visible')\n",
    "                        visible_from_east += 1\n",
    "        else:\n",
    "                print('the tree is visible')\n",
    "                visible_from_east += 1\n",
    "\n",
    "print(visible_from_east)"
   ]
  },
  {
   "cell_type": "code",
   "execution_count": 41,
   "metadata": {},
   "outputs": [],
   "source": [
    "\n",
    "visible_trees = {}\n",
    "\n",
    "# check how many are visible from east:\n",
    "for row in range(len(input)):\n",
    "    for col in range(len(input[0])):\n",
    "        #print(input[row][col], input[row][col:][1:])\n",
    "        if input[row][col:][:-1]:\n",
    "                if max(input[row][col:][1:]) >= input[row][col]:\n",
    "                        visible_trees[row, col] = False\n",
    "                        #print('marked ' + str(row) + ', ' + str(col) + ' as not visible')\n",
    "                else:\n",
    "                        spot = str(row) + str(col)\n",
    "                        visible_trees[row, col] = True\n",
    "                        #print('marked ' + str(row) + ', ' + str(col) + ' as visible-----------------')\n",
    "        else:\n",
    "                spot = str(row) + str(col)\n",
    "                visible_trees[row, col] = True\n",
    "                #print('marked ' + str(row) + ', ' + str(col) + ' as visible================')\n",
    "\n",
    "for row in range(len(input)):\n",
    "    for col in range(len(input[0])):\n",
    "        #print(input[row][col], input[row][col:][1:])\n",
    "        if input[row][:col]:\n",
    "                if max(input[row][:col]) >= input[row][col]:\n",
    "                        visible_trees[row, col] = False\n",
    "                        #print('marked ' + str(row) + ', ' + str(col) + ' as not visible')\n",
    "                else:\n",
    "                        spot = str(row) + str(col)\n",
    "                        visible_trees[row, col] = True\n",
    "                        #print('marked ' + str(row) + ', ' + str(col) + ' as visible-----------------')\n",
    "        else:\n",
    "                spot = str(row) + str(col)\n",
    "                visible_trees[row, col] = True\n",
    "                #print('marked ' + str(row) + ', ' + str(col) + ' as visible================')"
   ]
  },
  {
   "cell_type": "code",
   "execution_count": 45,
   "metadata": {},
   "outputs": [
    {
     "name": "stdout",
     "output_type": "stream",
     "text": [
      "11\n"
     ]
    }
   ],
   "source": [
    "count = 0\n",
    "for val in visible_trees.values():\n",
    "    if val == True:\n",
    "        count += 1\n",
    "print(count)"
   ]
  },
  {
   "cell_type": "code",
   "execution_count": 44,
   "metadata": {},
   "outputs": [
    {
     "data": {
      "text/plain": [
       "{(0, 0): True,\n",
       " (0, 1): False,\n",
       " (0, 2): False,\n",
       " (0, 3): True,\n",
       " (0, 4): False,\n",
       " (1, 0): True,\n",
       " (1, 1): True,\n",
       " (1, 2): False,\n",
       " (1, 3): False,\n",
       " (1, 4): False,\n",
       " (2, 0): True,\n",
       " (2, 1): False,\n",
       " (2, 2): False,\n",
       " (2, 3): False,\n",
       " (2, 4): False,\n",
       " (3, 0): True,\n",
       " (3, 1): False,\n",
       " (3, 2): True,\n",
       " (3, 3): False,\n",
       " (3, 4): True,\n",
       " (4, 0): True,\n",
       " (4, 1): True,\n",
       " (4, 2): False,\n",
       " (4, 3): True,\n",
       " (4, 4): False}"
      ]
     },
     "execution_count": 44,
     "metadata": {},
     "output_type": "execute_result"
    }
   ],
   "source": [
    "visible_trees"
   ]
  },
  {
   "cell_type": "code",
   "execution_count": null,
   "metadata": {},
   "outputs": [],
   "source": [
    "#counter = ((len(input)) * (len(input[0]))) - ((len(input)-1) * (len(input[0])-1))\n",
    "counter = ((len(input)) * (len(input[0])))\n",
    "print(counter)\n",
    "\n",
    "for row in range(len(input)):\n",
    "    for col in range(len(input[0])):\n",
    "        visible_from_north, visible_from_south, visible_from_west, visible_from_east = True, True, True, True\n",
    "        for tree in input[row][:col]: # check north\n",
    "            print(tree, input[row][:col], input[row][col])\n",
    "            if tree:\n",
    "                if int(tree) >= int(input[row][col]):\n",
    "                    visible_from_north = False\n",
    "        for tree1 in input[row][col:][:-1]: # check south\n",
    "            if tree1:\n",
    "                if int(tree1) >= int(input[row][col]):\n",
    "                    visible_from_south = False\n",
    "        if not visible_from_north and not visible_from_south:\n",
    "            counter -= 1\n",
    "\n",
    "print(counter)\n",
    "        \n",
    "       # for height in range(len(line)):\n",
    "       #     print(height)\n",
    "       #     if line[height]:\n",
    "       #         counter -= 1\n",
    "       # for length in range(len(input)):\n",
    "       #     if input[length]:\n",
    "       #         counter -= 1"
   ]
  },
  {
   "cell_type": "code",
   "execution_count": null,
   "metadata": {},
   "outputs": [],
   "source": [
    "counter"
   ]
  },
  {
   "cell_type": "code",
   "execution_count": null,
   "metadata": {},
   "outputs": [],
   "source": [
    "input[0]"
   ]
  },
  {
   "cell_type": "code",
   "execution_count": null,
   "metadata": {},
   "outputs": [],
   "source": []
  }
 ],
 "metadata": {
  "kernelspec": {
   "display_name": "tensorflow",
   "language": "python",
   "name": "python3"
  },
  "language_info": {
   "codemirror_mode": {
    "name": "ipython",
    "version": 3
   },
   "file_extension": ".py",
   "mimetype": "text/x-python",
   "name": "python",
   "nbconvert_exporter": "python",
   "pygments_lexer": "ipython3",
   "version": "3.9.13"
  },
  "orig_nbformat": 4,
  "vscode": {
   "interpreter": {
    "hash": "133de57714d40ba09447075a3b1a28b0b9f0b583e18f6847eafa8bf12e541e56"
   }
  }
 },
 "nbformat": 4,
 "nbformat_minor": 2
}
